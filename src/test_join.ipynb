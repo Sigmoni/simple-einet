{
 "cells": [
  {
   "cell_type": "code",
   "execution_count": 1,
   "metadata": {},
   "outputs": [
    {
     "data": {
      "text/html": [
       "<div>\n",
       "<style scoped>\n",
       "    .dataframe tbody tr th:only-of-type {\n",
       "        vertical-align: middle;\n",
       "    }\n",
       "\n",
       "    .dataframe tbody tr th {\n",
       "        vertical-align: top;\n",
       "    }\n",
       "\n",
       "    .dataframe thead th {\n",
       "        text-align: right;\n",
       "    }\n",
       "</style>\n",
       "<table border=\"1\" class=\"dataframe\">\n",
       "  <thead>\n",
       "    <tr style=\"text-align: right;\">\n",
       "      <th></th>\n",
       "      <th>0</th>\n",
       "      <th>1</th>\n",
       "      <th>2</th>\n",
       "      <th>3</th>\n",
       "      <th>4</th>\n",
       "      <th>5</th>\n",
       "      <th>6</th>\n",
       "      <th>7</th>\n",
       "      <th>8</th>\n",
       "      <th>9</th>\n",
       "      <th>10</th>\n",
       "    </tr>\n",
       "  </thead>\n",
       "  <tbody>\n",
       "    <tr>\n",
       "      <th>0</th>\n",
       "      <td>[-1.260126558977816, -0.2369342532160874]</td>\n",
       "      <td>[-1.8959374607576165, 1.860923845132794]</td>\n",
       "      <td>[-0.7365552595001024, 1.4444459458203256]</td>\n",
       "      <td>[-1.1464986731594555, 2.255263184000948]</td>\n",
       "      <td>[0.6767978328648754, 2.0552371224824344]</td>\n",
       "      <td>[-1.0073781170039398, 0.37767592184086374]</td>\n",
       "      <td>[-0.4341112674365708, 0.6692093376390955]</td>\n",
       "      <td>[-1.7937806767517854, 2.8036319183586156]</td>\n",
       "      <td>[-0.9136939980662104, 0.09097129394258996]</td>\n",
       "      <td>[-1.2677757010400448, 0.8406242114834102]</td>\n",
       "      <td>[-1.5631244160248052, 1.7278013087093247]</td>\n",
       "    </tr>\n",
       "    <tr>\n",
       "      <th>1</th>\n",
       "      <td>[-1.3721653270383627, 2.081330113743748]</td>\n",
       "      <td>[0.726444635199599, 2.03489314088781]</td>\n",
       "      <td>[-1.903740493650988, 2.0]</td>\n",
       "      <td>[-1.4732744339732, 2.3781141044476546]</td>\n",
       "      <td>[0.534008598262231, 2.4571250157473123]</td>\n",
       "      <td>[-0.386255427341432, 1.3437869050827886]</td>\n",
       "      <td>[-1.891391774852884, 6.0]</td>\n",
       "      <td>[-1.890105597825969, 7.0]</td>\n",
       "      <td>[-0.6340915590726713, 2.772867032010119]</td>\n",
       "      <td>[-0.9801227750124618, 1.0244762078778142]</td>\n",
       "      <td>[-1.8886365873419335, 10.0]</td>\n",
       "    </tr>\n",
       "    <tr>\n",
       "      <th>2</th>\n",
       "      <td>[-1.6652361597770815, 0.19721363534430636]</td>\n",
       "      <td>[-1.3089787350867124, -0.11871389175130087]</td>\n",
       "      <td>[-0.9963432946315364, 0.933819664281845]</td>\n",
       "      <td>[-0.9238466984362284, 2.562384658425435]</td>\n",
       "      <td>[-0.6959828846623772, 2.282411308590564]</td>\n",
       "      <td>[-1.3137222436748044, 0.4582563508339058]</td>\n",
       "      <td>[-0.9104433282137436, 0.8097207942934292]</td>\n",
       "      <td>[0.1360810913351929, 2.571501155574503]</td>\n",
       "      <td>[-0.0875724960033207, 1.9502776452681974]</td>\n",
       "      <td>[-0.8170173679508834, 1.5039175423960875]</td>\n",
       "      <td>[-1.800471177959752, 0.5303354242830896]</td>\n",
       "    </tr>\n",
       "    <tr>\n",
       "      <th>3</th>\n",
       "      <td>[-1.5569939809538509, -0.5538146281740439]</td>\n",
       "      <td>[-0.2195567248675598, 1.8120479342360216]</td>\n",
       "      <td>[-0.5683141189708811, 2.6195281420240533]</td>\n",
       "      <td>[-0.1035644078242013, 0.9140718763687004]</td>\n",
       "      <td>[-0.7005531591429937, 2.479631842778009]</td>\n",
       "      <td>[0.1411846667192799, 1.5616137726254924]</td>\n",
       "      <td>[0.0213341781949979, 1.7183498823083876]</td>\n",
       "      <td>[-1.035906690261493, 0.46187942779986146]</td>\n",
       "      <td>[0.3877287078845685, 2.5092121402123455]</td>\n",
       "      <td>[-0.3788567169557401, 1.1407312374871603]</td>\n",
       "      <td>[1.1677214858907083, 2.33707657777464]</td>\n",
       "    </tr>\n",
       "    <tr>\n",
       "      <th>4</th>\n",
       "      <td>[-1.3098750854783592, 0.580869523693702]</td>\n",
       "      <td>[0.4515150940473441, 1.8460961139996526]</td>\n",
       "      <td>[-1.6783074296688505, 0.24176716596864867]</td>\n",
       "      <td>[-0.171972063197759, 2.6864964708527674]</td>\n",
       "      <td>[-1.2809018671664458, -0.021429517321880587]</td>\n",
       "      <td>[-0.4091431170216335, 1.098777208060317]</td>\n",
       "      <td>[-1.3481596278255978, 2.2833582041686]</td>\n",
       "      <td>[-0.9063888479689874, 0.5789092351364244]</td>\n",
       "      <td>[0.558299551211563, 2.3853663619770895]</td>\n",
       "      <td>[-1.196673777974762, 0.7559409049301552]</td>\n",
       "      <td>[-1.8886365873419335, 10.0]</td>\n",
       "    </tr>\n",
       "  </tbody>\n",
       "</table>\n",
       "</div>"
      ],
      "text/plain": [
       "                                            0  \\\n",
       "0   [-1.260126558977816, -0.2369342532160874]   \n",
       "1    [-1.3721653270383627, 2.081330113743748]   \n",
       "2  [-1.6652361597770815, 0.19721363534430636]   \n",
       "3  [-1.5569939809538509, -0.5538146281740439]   \n",
       "4    [-1.3098750854783592, 0.580869523693702]   \n",
       "\n",
       "                                             1  \\\n",
       "0     [-1.8959374607576165, 1.860923845132794]   \n",
       "1        [0.726444635199599, 2.03489314088781]   \n",
       "2  [-1.3089787350867124, -0.11871389175130087]   \n",
       "3    [-0.2195567248675598, 1.8120479342360216]   \n",
       "4     [0.4515150940473441, 1.8460961139996526]   \n",
       "\n",
       "                                            2  \\\n",
       "0   [-0.7365552595001024, 1.4444459458203256]   \n",
       "1                   [-1.903740493650988, 2.0]   \n",
       "2    [-0.9963432946315364, 0.933819664281845]   \n",
       "3   [-0.5683141189708811, 2.6195281420240533]   \n",
       "4  [-1.6783074296688505, 0.24176716596864867]   \n",
       "\n",
       "                                           3  \\\n",
       "0   [-1.1464986731594555, 2.255263184000948]   \n",
       "1     [-1.4732744339732, 2.3781141044476546]   \n",
       "2   [-0.9238466984362284, 2.562384658425435]   \n",
       "3  [-0.1035644078242013, 0.9140718763687004]   \n",
       "4   [-0.171972063197759, 2.6864964708527674]   \n",
       "\n",
       "                                              4  \\\n",
       "0      [0.6767978328648754, 2.0552371224824344]   \n",
       "1       [0.534008598262231, 2.4571250157473123]   \n",
       "2      [-0.6959828846623772, 2.282411308590564]   \n",
       "3      [-0.7005531591429937, 2.479631842778009]   \n",
       "4  [-1.2809018671664458, -0.021429517321880587]   \n",
       "\n",
       "                                            5  \\\n",
       "0  [-1.0073781170039398, 0.37767592184086374]   \n",
       "1    [-0.386255427341432, 1.3437869050827886]   \n",
       "2   [-1.3137222436748044, 0.4582563508339058]   \n",
       "3    [0.1411846667192799, 1.5616137726254924]   \n",
       "4    [-0.4091431170216335, 1.098777208060317]   \n",
       "\n",
       "                                           6  \\\n",
       "0  [-0.4341112674365708, 0.6692093376390955]   \n",
       "1                  [-1.891391774852884, 6.0]   \n",
       "2  [-0.9104433282137436, 0.8097207942934292]   \n",
       "3   [0.0213341781949979, 1.7183498823083876]   \n",
       "4     [-1.3481596278255978, 2.2833582041686]   \n",
       "\n",
       "                                           7  \\\n",
       "0  [-1.7937806767517854, 2.8036319183586156]   \n",
       "1                  [-1.890105597825969, 7.0]   \n",
       "2    [0.1360810913351929, 2.571501155574503]   \n",
       "3  [-1.035906690261493, 0.46187942779986146]   \n",
       "4  [-0.9063888479689874, 0.5789092351364244]   \n",
       "\n",
       "                                            8  \\\n",
       "0  [-0.9136939980662104, 0.09097129394258996]   \n",
       "1    [-0.6340915590726713, 2.772867032010119]   \n",
       "2   [-0.0875724960033207, 1.9502776452681974]   \n",
       "3    [0.3877287078845685, 2.5092121402123455]   \n",
       "4     [0.558299551211563, 2.3853663619770895]   \n",
       "\n",
       "                                           9  \\\n",
       "0  [-1.2677757010400448, 0.8406242114834102]   \n",
       "1  [-0.9801227750124618, 1.0244762078778142]   \n",
       "2  [-0.8170173679508834, 1.5039175423960875]   \n",
       "3  [-0.3788567169557401, 1.1407312374871603]   \n",
       "4   [-1.196673777974762, 0.7559409049301552]   \n",
       "\n",
       "                                          10  \n",
       "0  [-1.5631244160248052, 1.7278013087093247]  \n",
       "1                [-1.8886365873419335, 10.0]  \n",
       "2   [-1.800471177959752, 0.5303354242830896]  \n",
       "3     [1.1677214858907083, 2.33707657777464]  \n",
       "4                [-1.8886365873419335, 10.0]  "
      ]
     },
     "execution_count": 1,
     "metadata": {},
     "output_type": "execute_result"
    }
   ],
   "source": [
    "import pandas as pd\n",
    "\n",
    "data = pd.read_csv(\"./data/dmv_query.csv\", sep=\",\")\n",
    "data.head()"
   ]
  },
  {
   "cell_type": "code",
   "execution_count": 2,
   "metadata": {},
   "outputs": [
    {
     "data": {
      "text/plain": [
       "['select * from foo;', 'select * from bar;']"
      ]
     },
     "execution_count": 2,
     "metadata": {},
     "output_type": "execute_result"
    }
   ],
   "source": [
    "import sqlparse\n",
    "\n",
    "raw = \"select * from foo; select * from bar;\"\n",
    "statements = sqlparse.split(raw)\n",
    "statements"
   ]
  },
  {
   "cell_type": "code",
   "execution_count": 3,
   "metadata": {},
   "outputs": [
    {
     "data": {
      "text/plain": [
       "[<DML 'select' at 0x7FC77C06BDC0>,\n",
       " <Whitespace ' ' at 0x7FC77CEA2500>,\n",
       " <Wildcard '*' at 0x7FC77CEA1FC0>,\n",
       " <Whitespace ' ' at 0x7FC77CEA25C0>,\n",
       " <Keyword 'from' at 0x7FC77CEA26E0>,\n",
       " <Whitespace ' ' at 0x7FC77CEA2740>,\n",
       " <Identifier 'foo' at 0x7FC77C0A35D0>]"
      ]
     },
     "execution_count": 3,
     "metadata": {},
     "output_type": "execute_result"
    }
   ],
   "source": [
    "parsed = sqlparse.parse('select * from foo')[0]\n",
    "parsed.tokens"
   ]
  },
  {
   "cell_type": "code",
   "execution_count": 6,
   "metadata": {},
   "outputs": [
    {
     "data": {
      "text/plain": [
       "[<DML 'SELECT' at 0x7FC7FFF23640>,\n",
       " <Whitespace ' ' at 0x7FC77CED4FA0>,\n",
       " <Function 'COUNT(...' at 0x7FC77C0A21D0>,\n",
       " <Whitespace ' ' at 0x7FC77CED5E40>,\n",
       " <Keyword 'FROM' at 0x7FC77CED5EA0>,\n",
       " <Whitespace ' ' at 0x7FC77CED5F00>,\n",
       " <IdentifierList 'movie_...' at 0x7FC77CEF5750>,\n",
       " <Whitespace ' ' at 0x7FC77CED6380>,\n",
       " <Where 'WHERE ...' at 0x7FC77C0A1D50>]"
      ]
     },
     "execution_count": 6,
     "metadata": {},
     "output_type": "execute_result"
    }
   ],
   "source": [
    "raw = \"SELECT COUNT(*) FROM movie_companies mc,title t,movie_info_idx mi_idx WHERE t.id=mc.movie_id AND t.id=mi_idx.movie_id AND mi_idx.info_type_id=112 AND mc.company_type_id=2;\"\n",
    "parsed = sqlparse.parse(raw)[0]\n",
    "parsed.tokens"
   ]
  },
  {
   "cell_type": "code",
   "execution_count": 8,
   "metadata": {},
   "outputs": [
    {
     "name": "stdout",
     "output_type": "stream",
     "text": [
      "SELECT COUNT(*)\n",
      "FROM movie_companies mc,\n",
      "     title t,\n",
      "     movie_info_idx mi_idx\n",
      "WHERE t.id=mc.movie_id\n",
      "  AND t.id=mi_idx.movie_id\n",
      "  AND mi_idx.info_type_id=112\n",
      "  AND mc.company_type_id=2;\n"
     ]
    }
   ],
   "source": [
    "print(sqlparse.format(raw, reindent=True))"
   ]
  },
  {
   "cell_type": "code",
   "execution_count": 11,
   "metadata": {},
   "outputs": [
    {
     "name": "stdout",
     "output_type": "stream",
     "text": [
      "a\n",
      "b\n",
      "a\n",
      "c\n",
      "x\n",
      "y\n",
      "z\n"
     ]
    }
   ],
   "source": [
    "from sqlglot import parse_one, exp\n",
    "\n",
    "# print all column references (a and b)\n",
    "for column in parse_one(\"SELECT a, b + 1 AS c FROM d\").find_all(exp.Column):\n",
    "    print(column.alias_or_name)\n",
    "\n",
    "# find all projections in select statements (a and c)\n",
    "for select in parse_one(\"SELECT a, b + 1 AS c FROM d\").find_all(exp.Select):\n",
    "    for projection in select.expressions:\n",
    "        print(projection.alias_or_name)\n",
    "\n",
    "# find all tables (x, y, z)\n",
    "for table in parse_one(\"SELECT * FROM x JOIN y JOIN z\").find_all(exp.Table):\n",
    "    print(table.name)"
   ]
  },
  {
   "cell_type": "code",
   "execution_count": 12,
   "metadata": {},
   "outputs": [],
   "source": [
    "ast = parse_one(\"SELECT COUNT(*) FROM movie_companies mc,title t,movie_info_idx mi_idx WHERE t.id=mc.movie_id AND t.id=mi_idx.movie_id AND mi_idx.info_type_id=112 AND mc.company_type_id=2;\")"
   ]
  },
  {
   "cell_type": "code",
   "execution_count": 14,
   "metadata": {},
   "outputs": [
    {
     "name": "stdout",
     "output_type": "stream",
     "text": [
      "Select(\n",
      "  expressions=[\n",
      "    Count(\n",
      "      this=Star(),\n",
      "      big_int=True)],\n",
      "  from=From(\n",
      "    this=Table(\n",
      "      this=Identifier(this=movie_companies, quoted=False),\n",
      "      alias=TableAlias(\n",
      "        this=Identifier(this=mc, quoted=False)))),\n",
      "  joins=[\n",
      "    Join(\n",
      "      this=Table(\n",
      "        this=Identifier(this=title, quoted=False),\n",
      "        alias=TableAlias(\n",
      "          this=Identifier(this=t, quoted=False)))),\n",
      "    Join(\n",
      "      this=Table(\n",
      "        this=Identifier(this=movie_info_idx, quoted=False),\n",
      "        alias=TableAlias(\n",
      "          this=Identifier(this=mi_idx, quoted=False))))],\n",
      "  where=Where(\n",
      "    this=And(\n",
      "      this=And(\n",
      "        this=And(\n",
      "          this=EQ(\n",
      "            this=Column(\n",
      "              this=Identifier(this=id, quoted=False),\n",
      "              table=Identifier(this=t, quoted=False)),\n",
      "            expression=Column(\n",
      "              this=Identifier(this=movie_id, quoted=False),\n",
      "              table=Identifier(this=mc, quoted=False))),\n",
      "          expression=EQ(\n",
      "            this=Column(\n",
      "              this=Identifier(this=id, quoted=False),\n",
      "              table=Identifier(this=t, quoted=False)),\n",
      "            expression=Column(\n",
      "              this=Identifier(this=movie_id, quoted=False),\n",
      "              table=Identifier(this=mi_idx, quoted=False)))),\n",
      "        expression=EQ(\n",
      "          this=Column(\n",
      "            this=Identifier(this=info_type_id, quoted=False),\n",
      "            table=Identifier(this=mi_idx, quoted=False)),\n",
      "          expression=Literal(this=112, is_string=False))),\n",
      "      expression=EQ(\n",
      "        this=Column(\n",
      "          this=Identifier(this=company_type_id, quoted=False),\n",
      "          table=Identifier(this=mc, quoted=False)),\n",
      "        expression=Literal(this=2, is_string=False)))))\n"
     ]
    }
   ],
   "source": [
    "print(repr(ast))"
   ]
  },
  {
   "cell_type": "code",
   "execution_count": null,
   "metadata": {},
   "outputs": [],
   "source": []
  }
 ],
 "metadata": {
  "kernelspec": {
   "display_name": ".venv",
   "language": "python",
   "name": "python3"
  },
  "language_info": {
   "codemirror_mode": {
    "name": "ipython",
    "version": 3
   },
   "file_extension": ".py",
   "mimetype": "text/x-python",
   "name": "python",
   "nbconvert_exporter": "python",
   "pygments_lexer": "ipython3",
   "version": "3.12.7"
  }
 },
 "nbformat": 4,
 "nbformat_minor": 2
}
